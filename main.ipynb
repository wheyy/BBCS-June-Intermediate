{
 "cells": [
  {
   "attachments": {},
   "cell_type": "markdown",
   "id": "0c35c9a2",
   "metadata": {},
   "source": [
    "# Setup\n",
    "Install necessary packages"
   ]
  },
  {
   "cell_type": "code",
   "execution_count": 17,
   "id": "215180ad",
   "metadata": {
    "scrolled": true
   },
   "outputs": [
    {
     "name": "stdout",
     "output_type": "stream",
     "text": [
      "Requirement already satisfied: wandb in c:\\users\\francis ralph\\.conda\\envs\\buildingblocs\\lib\\site-packages (0.15.3)\n",
      "Requirement already satisfied: torch in c:\\users\\francis ralph\\.conda\\envs\\buildingblocs\\lib\\site-packages (2.0.1)\n",
      "Requirement already satisfied: ultralytics in c:\\users\\francis ralph\\.conda\\envs\\buildingblocs\\lib\\site-packages (8.0.112)\n",
      "Requirement already satisfied: scikit-image in c:\\users\\francis ralph\\.conda\\envs\\buildingblocs\\lib\\site-packages (0.20.0)\n",
      "Requirement already satisfied: Click!=8.0.0,>=7.0 in c:\\users\\francis ralph\\.conda\\envs\\buildingblocs\\lib\\site-packages (from wandb) (8.1.3)\n",
      "Requirement already satisfied: GitPython!=3.1.29,>=1.0.0 in c:\\users\\francis ralph\\.conda\\envs\\buildingblocs\\lib\\site-packages (from wandb) (3.1.31)\n",
      "Requirement already satisfied: requests<3,>=2.0.0 in c:\\users\\francis ralph\\.conda\\envs\\buildingblocs\\lib\\site-packages (from wandb) (2.31.0)\n",
      "Requirement already satisfied: psutil>=5.0.0 in c:\\users\\francis ralph\\.conda\\envs\\buildingblocs\\lib\\site-packages (from wandb) (5.9.5)\n",
      "Requirement already satisfied: sentry-sdk>=1.0.0 in c:\\users\\francis ralph\\.conda\\envs\\buildingblocs\\lib\\site-packages (from wandb) (1.24.0)\n",
      "Requirement already satisfied: docker-pycreds>=0.4.0 in c:\\users\\francis ralph\\.conda\\envs\\buildingblocs\\lib\\site-packages (from wandb) (0.4.0)\n",
      "Requirement already satisfied: PyYAML in c:\\users\\francis ralph\\.conda\\envs\\buildingblocs\\lib\\site-packages (from wandb) (6.0)\n",
      "Requirement already satisfied: pathtools in c:\\users\\francis ralph\\.conda\\envs\\buildingblocs\\lib\\site-packages (from wandb) (0.1.2)\n",
      "Requirement already satisfied: setproctitle in c:\\users\\francis ralph\\.conda\\envs\\buildingblocs\\lib\\site-packages (from wandb) (1.3.2)\n",
      "Requirement already satisfied: setuptools in c:\\users\\francis ralph\\.conda\\envs\\buildingblocs\\lib\\site-packages (from wandb) (67.7.2)\n",
      "Requirement already satisfied: appdirs>=1.4.3 in c:\\users\\francis ralph\\.conda\\envs\\buildingblocs\\lib\\site-packages (from wandb) (1.4.4)\n",
      "Requirement already satisfied: protobuf!=4.21.0,<5,>=3.19.0 in c:\\users\\francis ralph\\.conda\\envs\\buildingblocs\\lib\\site-packages (from wandb) (4.23.2)\n",
      "Requirement already satisfied: filelock in c:\\users\\francis ralph\\.conda\\envs\\buildingblocs\\lib\\site-packages (from torch) (3.12.0)\n",
      "Requirement already satisfied: typing-extensions in c:\\users\\francis ralph\\.conda\\envs\\buildingblocs\\lib\\site-packages (from torch) (4.6.2)\n",
      "Requirement already satisfied: sympy in c:\\users\\francis ralph\\.conda\\envs\\buildingblocs\\lib\\site-packages (from torch) (1.12)\n",
      "Requirement already satisfied: networkx in c:\\users\\francis ralph\\.conda\\envs\\buildingblocs\\lib\\site-packages (from torch) (3.1)\n",
      "Requirement already satisfied: jinja2 in c:\\users\\francis ralph\\.conda\\envs\\buildingblocs\\lib\\site-packages (from torch) (3.1.2)\n",
      "Requirement already satisfied: matplotlib>=3.2.2 in c:\\users\\francis ralph\\.conda\\envs\\buildingblocs\\lib\\site-packages (from ultralytics) (3.7.1)\n",
      "Requirement already satisfied: opencv-python>=4.6.0 in c:\\users\\francis ralph\\.conda\\envs\\buildingblocs\\lib\\site-packages (from ultralytics) (4.7.0.72)\n",
      "Requirement already satisfied: Pillow>=7.1.2 in c:\\users\\francis ralph\\.conda\\envs\\buildingblocs\\lib\\site-packages (from ultralytics) (9.5.0)\n",
      "Requirement already satisfied: scipy>=1.4.1 in c:\\users\\francis ralph\\.conda\\envs\\buildingblocs\\lib\\site-packages (from ultralytics) (1.10.1)\n",
      "Requirement already satisfied: torchvision>=0.8.1 in c:\\users\\francis ralph\\.conda\\envs\\buildingblocs\\lib\\site-packages (from ultralytics) (0.15.2)\n",
      "Requirement already satisfied: tqdm>=4.64.0 in c:\\users\\francis ralph\\.conda\\envs\\buildingblocs\\lib\\site-packages (from ultralytics) (4.65.0)\n",
      "Requirement already satisfied: pandas>=1.1.4 in c:\\users\\francis ralph\\.conda\\envs\\buildingblocs\\lib\\site-packages (from ultralytics) (2.0.2)\n",
      "Requirement already satisfied: seaborn>=0.11.0 in c:\\users\\francis ralph\\.conda\\envs\\buildingblocs\\lib\\site-packages (from ultralytics) (0.12.2)\n",
      "Requirement already satisfied: numpy>=1.21.1 in c:\\users\\francis ralph\\.conda\\envs\\buildingblocs\\lib\\site-packages (from scikit-image) (1.24.3)\n",
      "Requirement already satisfied: imageio>=2.4.1 in c:\\users\\francis ralph\\.conda\\envs\\buildingblocs\\lib\\site-packages (from scikit-image) (2.30.0)\n",
      "Requirement already satisfied: tifffile>=2019.7.26 in c:\\users\\francis ralph\\.conda\\envs\\buildingblocs\\lib\\site-packages (from scikit-image) (2023.4.12)\n",
      "Requirement already satisfied: PyWavelets>=1.1.1 in c:\\users\\francis ralph\\.conda\\envs\\buildingblocs\\lib\\site-packages (from scikit-image) (1.4.1)\n",
      "Requirement already satisfied: packaging>=20.0 in c:\\users\\francis ralph\\.conda\\envs\\buildingblocs\\lib\\site-packages (from scikit-image) (23.1)\n",
      "Requirement already satisfied: lazy_loader>=0.1 in c:\\users\\francis ralph\\.conda\\envs\\buildingblocs\\lib\\site-packages (from scikit-image) (0.2)\n",
      "Requirement already satisfied: colorama in c:\\users\\francis ralph\\.conda\\envs\\buildingblocs\\lib\\site-packages (from Click!=8.0.0,>=7.0->wandb) (0.4.6)\n",
      "Requirement already satisfied: six>=1.4.0 in c:\\users\\francis ralph\\.conda\\envs\\buildingblocs\\lib\\site-packages (from docker-pycreds>=0.4.0->wandb) (1.16.0)\n",
      "Requirement already satisfied: gitdb<5,>=4.0.1 in c:\\users\\francis ralph\\.conda\\envs\\buildingblocs\\lib\\site-packages (from GitPython!=3.1.29,>=1.0.0->wandb) (4.0.10)\n",
      "Requirement already satisfied: contourpy>=1.0.1 in c:\\users\\francis ralph\\.conda\\envs\\buildingblocs\\lib\\site-packages (from matplotlib>=3.2.2->ultralytics) (1.0.7)\n",
      "Requirement already satisfied: cycler>=0.10 in c:\\users\\francis ralph\\.conda\\envs\\buildingblocs\\lib\\site-packages (from matplotlib>=3.2.2->ultralytics) (0.11.0)\n",
      "Requirement already satisfied: fonttools>=4.22.0 in c:\\users\\francis ralph\\.conda\\envs\\buildingblocs\\lib\\site-packages (from matplotlib>=3.2.2->ultralytics) (4.39.4)\n",
      "Requirement already satisfied: kiwisolver>=1.0.1 in c:\\users\\francis ralph\\.conda\\envs\\buildingblocs\\lib\\site-packages (from matplotlib>=3.2.2->ultralytics) (1.4.4)\n",
      "Requirement already satisfied: pyparsing>=2.3.1 in c:\\users\\francis ralph\\.conda\\envs\\buildingblocs\\lib\\site-packages (from matplotlib>=3.2.2->ultralytics) (3.0.9)\n",
      "Requirement already satisfied: python-dateutil>=2.7 in c:\\users\\francis ralph\\.conda\\envs\\buildingblocs\\lib\\site-packages (from matplotlib>=3.2.2->ultralytics) (2.8.2)\n",
      "Requirement already satisfied: pytz>=2020.1 in c:\\users\\francis ralph\\.conda\\envs\\buildingblocs\\lib\\site-packages (from pandas>=1.1.4->ultralytics) (2023.3)\n",
      "Requirement already satisfied: tzdata>=2022.1 in c:\\users\\francis ralph\\.conda\\envs\\buildingblocs\\lib\\site-packages (from pandas>=1.1.4->ultralytics) (2023.3)\n",
      "Requirement already satisfied: charset-normalizer<4,>=2 in c:\\users\\francis ralph\\.conda\\envs\\buildingblocs\\lib\\site-packages (from requests<3,>=2.0.0->wandb) (3.1.0)\n",
      "Requirement already satisfied: idna<4,>=2.5 in c:\\users\\francis ralph\\.conda\\envs\\buildingblocs\\lib\\site-packages (from requests<3,>=2.0.0->wandb) (3.4)\n",
      "Requirement already satisfied: urllib3<3,>=1.21.1 in c:\\users\\francis ralph\\.conda\\envs\\buildingblocs\\lib\\site-packages (from requests<3,>=2.0.0->wandb) (1.26.16)\n",
      "Requirement already satisfied: certifi>=2017.4.17 in c:\\users\\francis ralph\\.conda\\envs\\buildingblocs\\lib\\site-packages (from requests<3,>=2.0.0->wandb) (2023.5.7)\n",
      "Requirement already satisfied: MarkupSafe>=2.0 in c:\\users\\francis ralph\\.conda\\envs\\buildingblocs\\lib\\site-packages (from jinja2->torch) (2.1.2)\n",
      "Requirement already satisfied: mpmath>=0.19 in c:\\users\\francis ralph\\.conda\\envs\\buildingblocs\\lib\\site-packages (from sympy->torch) (1.3.0)\n",
      "Requirement already satisfied: smmap<6,>=3.0.1 in c:\\users\\francis ralph\\.conda\\envs\\buildingblocs\\lib\\site-packages (from gitdb<5,>=4.0.1->GitPython!=3.1.29,>=1.0.0->wandb) (5.0.0)\n"
     ]
    }
   ],
   "source": [
    "!pip install wandb torch ultralytics scikit-image"
   ]
  },
  {
   "cell_type": "code",
   "execution_count": 15,
   "id": "4ed53374",
   "metadata": {},
   "outputs": [
    {
     "name": "stdout",
     "output_type": "stream",
     "text": [
      "^C\n",
      "Looking in indexes: https://download.pytorch.org/whl/cu117\n",
      "Requirement already satisfied: torch in c:\\users\\francis ralph\\.conda\\envs\\buildingblocs\\lib\\site-packages (2.0.1)\n",
      "Requirement already satisfied: torchvision in c:\\users\\francis ralph\\.conda\\envs\\buildingblocs\\lib\\site-packages (0.15.2)\n",
      "Requirement already satisfied: filelock in c:\\users\\francis ralph\\.conda\\envs\\buildingblocs\\lib\\site-packages (from torch) (3.12.0)\n",
      "Requirement already satisfied: typing-extensions in c:\\users\\francis ralph\\.conda\\envs\\buildingblocs\\lib\\site-packages (from torch) (4.6.2)\n",
      "Requirement already satisfied: sympy in c:\\users\\francis ralph\\.conda\\envs\\buildingblocs\\lib\\site-packages (from torch) (1.12)\n",
      "Requirement already satisfied: networkx in c:\\users\\francis ralph\\.conda\\envs\\buildingblocs\\lib\\site-packages (from torch) (3.1)\n",
      "Requirement already satisfied: jinja2 in c:\\users\\francis ralph\\.conda\\envs\\buildingblocs\\lib\\site-packages (from torch) (3.1.2)\n",
      "Requirement already satisfied: numpy in c:\\users\\francis ralph\\.conda\\envs\\buildingblocs\\lib\\site-packages (from torchvision) (1.24.3)\n",
      "Requirement already satisfied: requests in c:\\users\\francis ralph\\.conda\\envs\\buildingblocs\\lib\\site-packages (from torchvision) (2.31.0)\n",
      "Requirement already satisfied: pillow!=8.3.*,>=5.3.0 in c:\\users\\francis ralph\\.conda\\envs\\buildingblocs\\lib\\site-packages (from torchvision) (9.5.0)\n",
      "Requirement already satisfied: MarkupSafe>=2.0 in c:\\users\\francis ralph\\.conda\\envs\\buildingblocs\\lib\\site-packages (from jinja2->torch) (2.1.2)\n",
      "Requirement already satisfied: charset-normalizer<4,>=2 in c:\\users\\francis ralph\\.conda\\envs\\buildingblocs\\lib\\site-packages (from requests->torchvision) (3.1.0)\n",
      "Requirement already satisfied: idna<4,>=2.5 in c:\\users\\francis ralph\\.conda\\envs\\buildingblocs\\lib\\site-packages (from requests->torchvision) (3.4)\n"
     ]
    },
    {
     "name": "stdout",
     "output_type": "stream",
     "text": [
      "Requirement already satisfied: urllib3<3,>=1.21.1 in c:\\users\\francis ralph\\.conda\\envs\\buildingblocs\\lib\\site-packages (from requests->torchvision) (1.26.16)\n",
      "Requirement already satisfied: certifi>=2017.4.17 in c:\\users\\francis ralph\\.conda\\envs\\buildingblocs\\lib\\site-packages (from requests->torchvision) (2023.5.7)\n",
      "Requirement already satisfied: mpmath>=0.19 in c:\\users\\francis ralph\\.conda\\envs\\buildingblocs\\lib\\site-packages (from sympy->torch) (1.3.0)\n"
     ]
    }
   ],
   "source": [
    "!pip uninstall torch torchvision\n",
    "!pip install torch torchvision --index-url https://download.pytorch.org/whl/cu117"
   ]
  },
  {
   "cell_type": "code",
   "execution_count": 3,
   "id": "ef351bb0",
   "metadata": {},
   "outputs": [],
   "source": [
    "import os\n",
    "from pathlib import Path\n",
    "import shutil\n",
    "\n",
    "import torch\n",
    "import pandas as pd\n",
    "import numpy as np\n",
    "from skimage import io, transform\n",
    "from torch.utils.data import Dataset, DataLoader, random_split\n",
    "from torchvision import transforms, utils, datasets\n",
    "\n",
    "from ultralytics import YOLO\n",
    "from ultralytics.yolo.engine.trainer import BaseTrainer\n",
    "\n",
    "import wandb"
   ]
  },
  {
   "attachments": {},
   "cell_type": "markdown",
   "id": "f4fe2be8",
   "metadata": {},
   "source": [
    "# Data Preprocessing\n",
    "Set up data for training and validation"
   ]
  },
  {
   "cell_type": "code",
   "execution_count": 21,
   "id": "b3141a96",
   "metadata": {},
   "outputs": [
    {
     "name": "stdout",
     "output_type": "stream",
     "text": [
      "c:\\Users\\Francis Ralph\\Desktop\\Misc\\BuildingBloCS\\BBCS-June-Intermediate\\datasets\\prannays_edibles\n"
     ]
    }
   ],
   "source": [
    "cwd = Path.cwd()\n",
    "datasets_path = cwd / \"datasets\"\n",
    "prannays_edibles_path = datasets_path / \"prannays_edibles\"\n",
    "print(prannays_edibles_path)"
   ]
  },
  {
   "cell_type": "code",
   "execution_count": 22,
   "id": "0786d353",
   "metadata": {},
   "outputs": [],
   "source": [
    "class_name_map = {\n",
    "    '0': 'bread',\n",
    "    '1': 'dairy',\n",
    "    '2': 'dessert',\n",
    "    '3': 'egg',\n",
    "    '4': 'fried',\n",
    "    '5': 'meat',\n",
    "    '6': 'pasta',\n",
    "    '7': 'rice',\n",
    "    '8': 'seafood',\n",
    "    '9': 'soup',\n",
    "    '10': 'vegetables',\n",
    "}"
   ]
  },
  {
   "cell_type": "code",
   "execution_count": 7,
   "id": "5ec4f392",
   "metadata": {},
   "outputs": [],
   "source": [
    "prannays_edibles_dataset = datasets.ImageFolder(root=prannays_edibles_path)\n",
    "\n",
    "train_split_percentage = 0.7\n",
    "test_split_percentage = 1 - train_split_percentage\n",
    "\n",
    "train_dataset, test_dataset = random_split(prannays_edibles_dataset, [train_split_percentage, test_split_percentage])\n",
    "\n",
    "split_dataset_path = cwd / \"datasets\" / \"prannays_edibles_split\"\n",
    "if split_dataset_path.exists() and split_dataset_path.is_dir():\n",
    "    shutil.rmtree(split_dataset_path) # reset split\n",
    "\n",
    "split_dataset_path.mkdir(exist_ok=True)\n",
    "\n",
    "train_dataset_path = split_dataset_path / \"train\"\n",
    "train_dataset_path.mkdir(exist_ok=True)\n",
    "\n",
    "test_dataset_path = split_dataset_path / \"test\"\n",
    "test_dataset_path.mkdir(exist_ok=True)\n",
    "\n",
    "def create_dataset_folder(dataset, dataset_path):\n",
    "    for i, (image, image_class) in enumerate(dataset):\n",
    "        class_path = dataset_path / str(image_class)\n",
    "        if not class_path.exists():\n",
    "            class_path.mkdir(exist_ok=True)\n",
    "        image.save(class_path / f\"{image_class}_{i}.jpg\")\n",
    "\n",
    "create_dataset_folder(train_dataset, train_dataset_path)\n",
    "create_dataset_folder(test_dataset, test_dataset_path)"
   ]
  },
  {
   "attachments": {},
   "cell_type": "markdown",
   "id": "2614e128",
   "metadata": {},
   "source": [
    "# Model Training"
   ]
  },
  {
   "cell_type": "code",
   "execution_count": 30,
   "id": "b9b26a10",
   "metadata": {},
   "outputs": [
    {
     "name": "stderr",
     "output_type": "stream",
     "text": [
      "Downloading https:\\github.com\\ultralytics\\assets\\releases\\download\\v0.0.0\\yolov8n-cls.pt to yolov8n-cls.pt...\n",
      "100%|██████████| 5.28M/5.28M [00:21<00:00, 256kB/s] \n"
     ]
    }
   ],
   "source": [
    "model_path = Path('yolov8n-cls.pt')\n",
    "if model_path.exists():\n",
    "    model_path.unlink()\n",
    "model = YOLO('yolov8n-cls.pt') # load pretrained model"
   ]
  },
  {
   "cell_type": "code",
   "execution_count": 31,
   "id": "081e3c3e",
   "metadata": {},
   "outputs": [
    {
     "data": {
      "text/html": [
       "Finishing last run (ID:rb130303) before initializing another..."
      ],
      "text/plain": [
       "<IPython.core.display.HTML object>"
      ]
     },
     "metadata": {},
     "output_type": "display_data"
    },
    {
     "data": {
      "text/html": [
       "Waiting for W&B process to finish... <strong style=\"color:green\">(success).</strong>"
      ],
      "text/plain": [
       "<IPython.core.display.HTML object>"
      ]
     },
     "metadata": {},
     "output_type": "display_data"
    },
    {
     "data": {
      "text/html": [
       "<style>\n",
       "    table.wandb td:nth-child(1) { padding: 0 10px; text-align: left ; width: auto;} td:nth-child(2) {text-align: left ; width: 100%}\n",
       "    .wandb-row { display: flex; flex-direction: row; flex-wrap: wrap; justify-content: flex-start; width: 100% }\n",
       "    .wandb-col { display: flex; flex-direction: column; flex-basis: 100%; flex: 1; padding: 10px; }\n",
       "    </style>\n",
       "<div class=\"wandb-row\"><div class=\"wandb-col\"><h3>Run history:</h3><br/><table class=\"wandb\"><tr><td>lr/pg0</td><td>█▁</td></tr><tr><td>lr/pg1</td><td>▁█</td></tr><tr><td>lr/pg2</td><td>▁█</td></tr><tr><td>metrics/accuracy_top1</td><td>▁█</td></tr><tr><td>metrics/accuracy_top5</td><td>▁█</td></tr><tr><td>model/GFLOPs</td><td>▁</td></tr><tr><td>model/parameters</td><td>▁</td></tr><tr><td>model/speed_PyTorch(ms)</td><td>▁</td></tr><tr><td>train/loss</td><td>█▁</td></tr><tr><td>val/loss</td><td>█▁</td></tr></table><br/></div><div class=\"wandb-col\"><h3>Run summary:</h3><br/><table class=\"wandb\"><tr><td>lr/pg0</td><td>0.03958</td></tr><tr><td>lr/pg1</td><td>0.00622</td></tr><tr><td>lr/pg2</td><td>0.00622</td></tr><tr><td>metrics/accuracy_top1</td><td>0.27678</td></tr><tr><td>metrics/accuracy_top5</td><td>0.79892</td></tr><tr><td>model/GFLOPs</td><td>0.0</td></tr><tr><td>model/parameters</td><td>1452379</td></tr><tr><td>model/speed_PyTorch(ms)</td><td>14.165</td></tr><tr><td>train/loss</td><td>0.13355</td></tr><tr><td>val/loss</td><td>0.2875</td></tr></table><br/></div></div>"
      ],
      "text/plain": [
       "<IPython.core.display.HTML object>"
      ]
     },
     "metadata": {},
     "output_type": "display_data"
    },
    {
     "data": {
      "text/html": [
       " View run <strong style=\"color:#cdcd00\">vital-armadillo-5</strong> at: <a href='https://wandb.ai/francisralph/BuildingBloCS%20Prannays%20Edibles%20Classifier/runs/rb130303' target=\"_blank\">https://wandb.ai/francisralph/BuildingBloCS%20Prannays%20Edibles%20Classifier/runs/rb130303</a><br/>Synced 6 W&B file(s), 6 media file(s), 0 artifact file(s) and 0 other file(s)"
      ],
      "text/plain": [
       "<IPython.core.display.HTML object>"
      ]
     },
     "metadata": {},
     "output_type": "display_data"
    },
    {
     "data": {
      "text/html": [
       "Find logs at: <code>.\\wandb\\run-20230602_105004-rb130303\\logs</code>"
      ],
      "text/plain": [
       "<IPython.core.display.HTML object>"
      ]
     },
     "metadata": {},
     "output_type": "display_data"
    },
    {
     "data": {
      "text/html": [
       "Successfully finished last run (ID:rb130303). Initializing new run:<br/>"
      ],
      "text/plain": [
       "<IPython.core.display.HTML object>"
      ]
     },
     "metadata": {},
     "output_type": "display_data"
    },
    {
     "data": {
      "text/html": [
       "Tracking run with wandb version 0.15.3"
      ],
      "text/plain": [
       "<IPython.core.display.HTML object>"
      ]
     },
     "metadata": {},
     "output_type": "display_data"
    },
    {
     "data": {
      "text/html": [
       "Run data is saved locally in <code>c:\\Users\\Francis Ralph\\Desktop\\Misc\\BuildingBloCS\\BBCS-June-Intermediate\\wandb\\run-20230602_152103-pkiau0su</code>"
      ],
      "text/plain": [
       "<IPython.core.display.HTML object>"
      ]
     },
     "metadata": {},
     "output_type": "display_data"
    },
    {
     "data": {
      "text/html": [
       "Syncing run <strong><a href='https://wandb.ai/francisralph/BuildingBloCS%20Prannays%20Edibles%20Classifier/runs/pkiau0su' target=\"_blank\">serene-yogurt-6</a></strong> to <a href='https://wandb.ai/francisralph/BuildingBloCS%20Prannays%20Edibles%20Classifier' target=\"_blank\">Weights & Biases</a> (<a href='https://wandb.me/run' target=\"_blank\">docs</a>)<br/>"
      ],
      "text/plain": [
       "<IPython.core.display.HTML object>"
      ]
     },
     "metadata": {},
     "output_type": "display_data"
    },
    {
     "data": {
      "text/html": [
       " View project at <a href='https://wandb.ai/francisralph/BuildingBloCS%20Prannays%20Edibles%20Classifier' target=\"_blank\">https://wandb.ai/francisralph/BuildingBloCS%20Prannays%20Edibles%20Classifier</a>"
      ],
      "text/plain": [
       "<IPython.core.display.HTML object>"
      ]
     },
     "metadata": {},
     "output_type": "display_data"
    },
    {
     "data": {
      "text/html": [
       " View run at <a href='https://wandb.ai/francisralph/BuildingBloCS%20Prannays%20Edibles%20Classifier/runs/pkiau0su' target=\"_blank\">https://wandb.ai/francisralph/BuildingBloCS%20Prannays%20Edibles%20Classifier/runs/pkiau0su</a>"
      ],
      "text/plain": [
       "<IPython.core.display.HTML object>"
      ]
     },
     "metadata": {},
     "output_type": "display_data"
    },
    {
     "data": {
      "text/html": [
       "<button onClick=\"this.nextSibling.style.display='block';this.style.display='none';\">Display W&B run</button><iframe src='https://wandb.ai/francisralph/BuildingBloCS%20Prannays%20Edibles%20Classifier/runs/pkiau0su?jupyter=true' style='border:none;width:100%;height:420px;display:none;'></iframe>"
      ],
      "text/plain": [
       "<wandb.sdk.wandb_run.Run at 0x1b24f8c71d0>"
      ]
     },
     "execution_count": 31,
     "metadata": {},
     "output_type": "execute_result"
    }
   ],
   "source": [
    "# login to wandb to monitor training metrics\n",
    "os.environ[\"WANDB_API_KEY\"] = input()\n",
    "wandb.init(project='BuildingBloCS Prannays Edibles Classifier', settings=wandb.Settings(start_method=\"spawn\"), mode='online')"
   ]
  },
  {
   "cell_type": "code",
   "execution_count": 32,
   "id": "7c538516",
   "metadata": {},
   "outputs": [
    {
     "name": "stderr",
     "output_type": "stream",
     "text": [
      "Ultralytics YOLOv8.0.112  Python-3.11.3 torch-2.0.1+cpu CPU\n",
      "\u001b[34m\u001b[1myolo\\engine\\trainer: \u001b[0mtask=classify, mode=train, model=yolov8n-cls.pt, data=c:\\Users\\Francis Ralph\\Desktop\\Misc\\BuildingBloCS\\BBCS-June-Intermediate\\datasets\\prannays_edibles_split, epochs=15, patience=50, batch=4, imgsz=224, save=True, save_period=-1, cache=False, device=None, workers=8, project=None, name=None, exist_ok=False, pretrained=False, optimizer=SGD, verbose=True, seed=0, deterministic=True, single_cls=False, rect=False, cos_lr=False, close_mosaic=0, resume=False, amp=True, fraction=1.0, profile=False, overlap_mask=True, mask_ratio=4, dropout=0.0, val=True, split=val, save_json=False, save_hybrid=False, conf=None, iou=0.7, max_det=300, half=False, dnn=False, plots=True, source=None, show=False, save_txt=False, save_conf=False, save_crop=False, show_labels=True, show_conf=True, vid_stride=1, line_width=None, visualize=False, augment=False, agnostic_nms=False, classes=None, retina_masks=False, boxes=True, format=torchscript, keras=False, optimize=False, int8=False, dynamic=False, simplify=False, opset=None, workspace=4, nms=False, lr0=0.01, lrf=0.01, momentum=0.937, weight_decay=0.0005, warmup_epochs=3.0, warmup_momentum=0.8, warmup_bias_lr=0.1, box=7.5, cls=0.5, dfl=1.5, pose=12.0, kobj=1.0, label_smoothing=0.0, nbs=64, hsv_h=0.015, hsv_s=0.7, hsv_v=0.4, degrees=0.0, translate=0.1, scale=0.5, shear=0.0, perspective=0.0, flipud=0.0, fliplr=0.5, mosaic=1.0, mixup=0.0, copy_paste=0.0, cfg=None, v5loader=False, tracker=botsort.yaml, save_dir=runs\\classify\\train11\n",
      "Overriding model.yaml nc=1000 with nc=11\n",
      "\n",
      "                   from  n    params  module                                       arguments                     \n",
      "  0                  -1  1       464  ultralytics.nn.modules.conv.Conv             [3, 16, 3, 2]                 \n",
      "  1                  -1  1      4672  ultralytics.nn.modules.conv.Conv             [16, 32, 3, 2]                \n",
      "  2                  -1  1      7360  ultralytics.nn.modules.block.C2f             [32, 32, 1, True]             \n",
      "  3                  -1  1     18560  ultralytics.nn.modules.conv.Conv             [32, 64, 3, 2]                \n",
      "  4                  -1  2     49664  ultralytics.nn.modules.block.C2f             [64, 64, 2, True]             \n",
      "  5                  -1  1     73984  ultralytics.nn.modules.conv.Conv             [64, 128, 3, 2]               \n",
      "  6                  -1  2    197632  ultralytics.nn.modules.block.C2f             [128, 128, 2, True]           \n",
      "  7                  -1  1    295424  ultralytics.nn.modules.conv.Conv             [128, 256, 3, 2]              \n",
      "  8                  -1  1    460288  ultralytics.nn.modules.block.C2f             [256, 256, 1, True]           \n",
      "  9                  -1  1    344331  ultralytics.nn.modules.head.Classify         [256, 11]                     \n",
      "YOLOv8n-cls summary: 99 layers, 1452379 parameters, 1452379 gradients\n",
      "Transferred 156/158 items from pretrained weights\n",
      "\u001b[34m\u001b[1moptimizer:\u001b[0m SGD(lr=0.01) with parameter groups 26 weight(decay=0.0), 27 weight(decay=0.0005), 27 bias\n",
      "Image sizes 224 train, 224 val\n",
      "Using 0 dataloader workers\n",
      "Logging results to \u001b[1mruns\\classify\\train11\u001b[0m\n",
      "Starting training for 15 epochs...\n",
      "\n",
      "      Epoch    GPU_mem       loss  Instances       Size\n",
      "       1/15         0G     0.1412          3        224: 100%|██████████| 1727/1727 [06:19<00:00,  4.55it/s]\n",
      "               classes   top1_acc   top5_acc: 100%|██████████| 370/370 [01:04<00:00,  5.71it/s]\n",
      "                   all        0.2      0.697\n",
      "\n",
      "      Epoch    GPU_mem       loss  Instances       Size\n",
      "       2/15         0G     0.1335          3        224: 100%|██████████| 1727/1727 [05:51<00:00,  4.91it/s]\n",
      "               classes   top1_acc   top5_acc: 100%|██████████| 370/370 [01:00<00:00,  6.16it/s]\n",
      "                   all      0.277      0.799\n",
      "\n",
      "      Epoch    GPU_mem       loss  Instances       Size\n",
      "       3/15         0G     0.1281          3        224: 100%|██████████| 1727/1727 [05:29<00:00,  5.24it/s]\n",
      "               classes   top1_acc   top5_acc: 100%|██████████| 370/370 [00:58<00:00,  6.33it/s]\n",
      "                   all      0.336      0.839\n",
      "\n",
      "      Epoch    GPU_mem       loss  Instances       Size\n",
      "       4/15         0G     0.1233          3        224: 100%|██████████| 1727/1727 [05:30<00:00,  5.22it/s]\n",
      "               classes   top1_acc   top5_acc: 100%|██████████| 370/370 [00:58<00:00,  6.28it/s]\n",
      "                   all      0.384      0.872\n",
      "\n",
      "      Epoch    GPU_mem       loss  Instances       Size\n",
      "       5/15         0G     0.1149          3        224: 100%|██████████| 1727/1727 [05:45<00:00,  4.99it/s]\n",
      "               classes   top1_acc   top5_acc: 100%|██████████| 370/370 [01:04<00:00,  5.71it/s]\n",
      "                   all      0.407      0.882\n",
      "\n",
      "      Epoch    GPU_mem       loss  Instances       Size\n",
      "       6/15         0G     0.1082          3        224: 100%|██████████| 1727/1727 [06:03<00:00,  4.75it/s]\n",
      "               classes   top1_acc   top5_acc: 100%|██████████| 370/370 [01:04<00:00,  5.71it/s]\n",
      "                   all      0.466      0.899\n",
      "\n",
      "      Epoch    GPU_mem       loss  Instances       Size\n",
      "       7/15         0G     0.1001          3        224: 100%|██████████| 1727/1727 [05:36<00:00,  5.14it/s]\n",
      "               classes   top1_acc   top5_acc: 100%|██████████| 370/370 [00:58<00:00,  6.31it/s]\n",
      "                   all      0.505      0.915\n",
      "\n",
      "      Epoch    GPU_mem       loss  Instances       Size\n",
      "       8/15         0G    0.09238          3        224: 100%|██████████| 1727/1727 [05:30<00:00,  5.23it/s]\n",
      "               classes   top1_acc   top5_acc: 100%|██████████| 370/370 [00:58<00:00,  6.30it/s]\n",
      "                   all       0.52      0.923\n",
      "\n",
      "      Epoch    GPU_mem       loss  Instances       Size\n",
      "       9/15         0G    0.08293          3        224: 100%|██████████| 1727/1727 [05:32<00:00,  5.19it/s]\n",
      "               classes   top1_acc   top5_acc: 100%|██████████| 370/370 [00:58<00:00,  6.27it/s]\n",
      "                   all      0.543       0.92\n",
      "\n",
      "      Epoch    GPU_mem       loss  Instances       Size\n",
      "      10/15         0G    0.07499          3        224: 100%|██████████| 1727/1727 [05:32<00:00,  5.19it/s]\n",
      "               classes   top1_acc   top5_acc: 100%|██████████| 370/370 [00:59<00:00,  6.23it/s]\n",
      "                   all      0.541      0.914\n",
      "\n",
      "      Epoch    GPU_mem       loss  Instances       Size\n",
      "      11/15         0G    0.06412          3        224: 100%|██████████| 1727/1727 [05:32<00:00,  5.19it/s]\n",
      "               classes   top1_acc   top5_acc: 100%|██████████| 370/370 [00:58<00:00,  6.28it/s]\n",
      "                   all      0.539      0.914\n",
      "\n",
      "      Epoch    GPU_mem       loss  Instances       Size\n",
      "      12/15         0G    0.05218          3        224: 100%|██████████| 1727/1727 [05:33<00:00,  5.18it/s]\n",
      "               classes   top1_acc   top5_acc: 100%|██████████| 370/370 [00:59<00:00,  6.22it/s]\n",
      "                   all      0.519      0.907\n",
      "\n",
      "      Epoch    GPU_mem       loss  Instances       Size\n",
      "      13/15         0G     0.0414          3        224: 100%|██████████| 1727/1727 [05:33<00:00,  5.17it/s]\n",
      "               classes   top1_acc   top5_acc: 100%|██████████| 370/370 [00:59<00:00,  6.23it/s]\n",
      "                   all      0.503      0.886\n",
      "\n",
      "      Epoch    GPU_mem       loss  Instances       Size\n",
      "      14/15         0G    0.03078          3        224: 100%|██████████| 1727/1727 [05:37<00:00,  5.12it/s]\n",
      "               classes   top1_acc   top5_acc: 100%|██████████| 370/370 [00:59<00:00,  6.21it/s]\n",
      "                   all      0.526      0.903\n",
      "\n",
      "      Epoch    GPU_mem       loss  Instances       Size\n",
      "      15/15         0G    0.02141          3        224: 100%|██████████| 1727/1727 [05:36<00:00,  5.14it/s]\n",
      "               classes   top1_acc   top5_acc: 100%|██████████| 370/370 [00:59<00:00,  6.27it/s]\n",
      "                   all       0.53      0.906\n",
      "\n",
      "15 epochs completed in 1.671 hours.\n",
      "Optimizer stripped from runs\\classify\\train11\\weights\\last.pt, 3.0MB\n",
      "Optimizer stripped from runs\\classify\\train11\\weights\\best.pt, 3.0MB\n",
      "Results saved to \u001b[1mruns\\classify\\train11\u001b[0m\n"
     ]
    }
   ],
   "source": [
    "epochs = 15\n",
    "batch = 4\n",
    "\n",
    "model.train(data=str(split_dataset_path), batch=batch, epochs=epochs)"
   ]
  },
  {
   "attachments": {},
   "cell_type": "markdown",
   "id": "f85879b8",
   "metadata": {},
   "source": [
    "# Model Validation"
   ]
  },
  {
   "cell_type": "code",
   "execution_count": 33,
   "id": "145246e4",
   "metadata": {},
   "outputs": [
    {
     "name": "stderr",
     "output_type": "stream",
     "text": [
      "Ultralytics YOLOv8.0.112  Python-3.11.3 torch-2.0.1+cpu \n"
     ]
    },
    {
     "ename": "ValueError",
     "evalue": "Invalid CUDA 'device=0' requested. Use 'device=cpu' or pass valid CUDA device(s) if available, i.e. 'device=0' or 'device=0,1,2,3' for Multi-GPU.\n\ntorch.cuda.is_available(): False\ntorch.cuda.device_count(): 0\nos.environ['CUDA_VISIBLE_DEVICES']: 0\nSee https://pytorch.org/get-started/locally/ for up-to-date torch install instructions if no CUDA devices are seen by torch.\n",
     "output_type": "error",
     "traceback": [
      "\u001b[1;31m---------------------------------------------------------------------------\u001b[0m",
      "\u001b[1;31mValueError\u001b[0m                                Traceback (most recent call last)",
      "Cell \u001b[1;32mIn[33], line 1\u001b[0m\n\u001b[1;32m----> 1\u001b[0m metrics \u001b[39m=\u001b[39m model\u001b[39m.\u001b[39;49mval(data\u001b[39m=\u001b[39;49m\u001b[39mstr\u001b[39;49m(split_dataset_path), device\u001b[39m=\u001b[39;49m\u001b[39m0\u001b[39;49m)\n\u001b[0;32m      2\u001b[0m \u001b[39mprint\u001b[39m(\u001b[39m\"\u001b[39m\u001b[39mmetrics\u001b[39m\u001b[39m\"\u001b[39m, metrics)\n",
      "File \u001b[1;32mc:\\Users\\Francis Ralph\\.conda\\envs\\buildingblocs\\Lib\\site-packages\\torch\\utils\\_contextlib.py:115\u001b[0m, in \u001b[0;36mcontext_decorator.<locals>.decorate_context\u001b[1;34m(*args, **kwargs)\u001b[0m\n\u001b[0;32m    112\u001b[0m \u001b[39m@functools\u001b[39m\u001b[39m.\u001b[39mwraps(func)\n\u001b[0;32m    113\u001b[0m \u001b[39mdef\u001b[39;00m \u001b[39mdecorate_context\u001b[39m(\u001b[39m*\u001b[39margs, \u001b[39m*\u001b[39m\u001b[39m*\u001b[39mkwargs):\n\u001b[0;32m    114\u001b[0m     \u001b[39mwith\u001b[39;00m ctx_factory():\n\u001b[1;32m--> 115\u001b[0m         \u001b[39mreturn\u001b[39;00m func(\u001b[39m*\u001b[39;49margs, \u001b[39m*\u001b[39;49m\u001b[39m*\u001b[39;49mkwargs)\n",
      "File \u001b[1;32mc:\\Users\\Francis Ralph\\.conda\\envs\\buildingblocs\\Lib\\site-packages\\ultralytics\\yolo\\engine\\model.py:302\u001b[0m, in \u001b[0;36mYOLO.val\u001b[1;34m(self, data, **kwargs)\u001b[0m\n\u001b[0;32m    299\u001b[0m args\u001b[39m.\u001b[39mimgsz \u001b[39m=\u001b[39m check_imgsz(args\u001b[39m.\u001b[39mimgsz, max_dim\u001b[39m=\u001b[39m\u001b[39m1\u001b[39m)\n\u001b[0;32m    301\u001b[0m validator \u001b[39m=\u001b[39m TASK_MAP[\u001b[39mself\u001b[39m\u001b[39m.\u001b[39mtask][\u001b[39m2\u001b[39m](args\u001b[39m=\u001b[39margs, _callbacks\u001b[39m=\u001b[39m\u001b[39mself\u001b[39m\u001b[39m.\u001b[39mcallbacks)\n\u001b[1;32m--> 302\u001b[0m validator(model\u001b[39m=\u001b[39;49m\u001b[39mself\u001b[39;49m\u001b[39m.\u001b[39;49mmodel)\n\u001b[0;32m    303\u001b[0m \u001b[39mself\u001b[39m\u001b[39m.\u001b[39mmetrics \u001b[39m=\u001b[39m validator\u001b[39m.\u001b[39mmetrics\n\u001b[0;32m    305\u001b[0m \u001b[39mreturn\u001b[39;00m validator\u001b[39m.\u001b[39mmetrics\n",
      "File \u001b[1;32mc:\\Users\\Francis Ralph\\.conda\\envs\\buildingblocs\\Lib\\site-packages\\torch\\utils\\_contextlib.py:115\u001b[0m, in \u001b[0;36mcontext_decorator.<locals>.decorate_context\u001b[1;34m(*args, **kwargs)\u001b[0m\n\u001b[0;32m    112\u001b[0m \u001b[39m@functools\u001b[39m\u001b[39m.\u001b[39mwraps(func)\n\u001b[0;32m    113\u001b[0m \u001b[39mdef\u001b[39;00m \u001b[39mdecorate_context\u001b[39m(\u001b[39m*\u001b[39margs, \u001b[39m*\u001b[39m\u001b[39m*\u001b[39mkwargs):\n\u001b[0;32m    114\u001b[0m     \u001b[39mwith\u001b[39;00m ctx_factory():\n\u001b[1;32m--> 115\u001b[0m         \u001b[39mreturn\u001b[39;00m func(\u001b[39m*\u001b[39;49margs, \u001b[39m*\u001b[39;49m\u001b[39m*\u001b[39;49mkwargs)\n",
      "File \u001b[1;32mc:\\Users\\Francis Ralph\\.conda\\envs\\buildingblocs\\Lib\\site-packages\\ultralytics\\yolo\\engine\\validator.py:112\u001b[0m, in \u001b[0;36mBaseValidator.__call__\u001b[1;34m(self, trainer, model)\u001b[0m\n\u001b[0;32m    110\u001b[0m \u001b[39mself\u001b[39m\u001b[39m.\u001b[39mrun_callbacks(\u001b[39m'\u001b[39m\u001b[39mon_val_start\u001b[39m\u001b[39m'\u001b[39m)\n\u001b[0;32m    111\u001b[0m \u001b[39massert\u001b[39;00m model \u001b[39mis\u001b[39;00m \u001b[39mnot\u001b[39;00m \u001b[39mNone\u001b[39;00m, \u001b[39m'\u001b[39m\u001b[39mEither trainer or model is needed for validation\u001b[39m\u001b[39m'\u001b[39m\n\u001b[1;32m--> 112\u001b[0m \u001b[39mself\u001b[39m\u001b[39m.\u001b[39mdevice \u001b[39m=\u001b[39m select_device(\u001b[39mself\u001b[39;49m\u001b[39m.\u001b[39;49margs\u001b[39m.\u001b[39;49mdevice, \u001b[39mself\u001b[39;49m\u001b[39m.\u001b[39;49margs\u001b[39m.\u001b[39;49mbatch)\n\u001b[0;32m    113\u001b[0m \u001b[39mself\u001b[39m\u001b[39m.\u001b[39margs\u001b[39m.\u001b[39mhalf \u001b[39m&\u001b[39m\u001b[39m=\u001b[39m \u001b[39mself\u001b[39m\u001b[39m.\u001b[39mdevice\u001b[39m.\u001b[39mtype \u001b[39m!=\u001b[39m \u001b[39m'\u001b[39m\u001b[39mcpu\u001b[39m\u001b[39m'\u001b[39m\n\u001b[0;32m    114\u001b[0m model \u001b[39m=\u001b[39m AutoBackend(model, device\u001b[39m=\u001b[39m\u001b[39mself\u001b[39m\u001b[39m.\u001b[39mdevice, dnn\u001b[39m=\u001b[39m\u001b[39mself\u001b[39m\u001b[39m.\u001b[39margs\u001b[39m.\u001b[39mdnn, data\u001b[39m=\u001b[39m\u001b[39mself\u001b[39m\u001b[39m.\u001b[39margs\u001b[39m.\u001b[39mdata, fp16\u001b[39m=\u001b[39m\u001b[39mself\u001b[39m\u001b[39m.\u001b[39margs\u001b[39m.\u001b[39mhalf)\n",
      "File \u001b[1;32mc:\\Users\\Francis Ralph\\.conda\\envs\\buildingblocs\\Lib\\site-packages\\ultralytics\\yolo\\utils\\torch_utils.py:73\u001b[0m, in \u001b[0;36mselect_device\u001b[1;34m(device, batch, newline, verbose)\u001b[0m\n\u001b[0;32m     70\u001b[0m         LOGGER\u001b[39m.\u001b[39minfo(s)\n\u001b[0;32m     71\u001b[0m         install \u001b[39m=\u001b[39m \u001b[39m'\u001b[39m\u001b[39mSee https://pytorch.org/get-started/locally/ for up-to-date torch install instructions if no \u001b[39m\u001b[39m'\u001b[39m \\\n\u001b[0;32m     72\u001b[0m                   \u001b[39m'\u001b[39m\u001b[39mCUDA devices are seen by torch.\u001b[39m\u001b[39m\\n\u001b[39;00m\u001b[39m'\u001b[39m \u001b[39mif\u001b[39;00m torch\u001b[39m.\u001b[39mcuda\u001b[39m.\u001b[39mdevice_count() \u001b[39m==\u001b[39m \u001b[39m0\u001b[39m \u001b[39melse\u001b[39;00m \u001b[39m'\u001b[39m\u001b[39m'\u001b[39m\n\u001b[1;32m---> 73\u001b[0m         \u001b[39mraise\u001b[39;00m \u001b[39mValueError\u001b[39;00m(\u001b[39mf\u001b[39m\u001b[39m\"\u001b[39m\u001b[39mInvalid CUDA \u001b[39m\u001b[39m'\u001b[39m\u001b[39mdevice=\u001b[39m\u001b[39m{\u001b[39;00mdevice\u001b[39m}\u001b[39;00m\u001b[39m'\u001b[39m\u001b[39m requested.\u001b[39m\u001b[39m\"\u001b[39m\n\u001b[0;32m     74\u001b[0m                          \u001b[39mf\u001b[39m\u001b[39m\"\u001b[39m\u001b[39m Use \u001b[39m\u001b[39m'\u001b[39m\u001b[39mdevice=cpu\u001b[39m\u001b[39m'\u001b[39m\u001b[39m or pass valid CUDA device(s) if available,\u001b[39m\u001b[39m\"\u001b[39m\n\u001b[0;32m     75\u001b[0m                          \u001b[39mf\u001b[39m\u001b[39m\"\u001b[39m\u001b[39m i.e. \u001b[39m\u001b[39m'\u001b[39m\u001b[39mdevice=0\u001b[39m\u001b[39m'\u001b[39m\u001b[39m or \u001b[39m\u001b[39m'\u001b[39m\u001b[39mdevice=0,1,2,3\u001b[39m\u001b[39m'\u001b[39m\u001b[39m for Multi-GPU.\u001b[39m\u001b[39m\\n\u001b[39;00m\u001b[39m\"\u001b[39m\n\u001b[0;32m     76\u001b[0m                          \u001b[39mf\u001b[39m\u001b[39m'\u001b[39m\u001b[39m\\n\u001b[39;00m\u001b[39mtorch.cuda.is_available(): \u001b[39m\u001b[39m{\u001b[39;00mtorch\u001b[39m.\u001b[39mcuda\u001b[39m.\u001b[39mis_available()\u001b[39m}\u001b[39;00m\u001b[39m'\u001b[39m\n\u001b[0;32m     77\u001b[0m                          \u001b[39mf\u001b[39m\u001b[39m'\u001b[39m\u001b[39m\\n\u001b[39;00m\u001b[39mtorch.cuda.device_count(): \u001b[39m\u001b[39m{\u001b[39;00mtorch\u001b[39m.\u001b[39mcuda\u001b[39m.\u001b[39mdevice_count()\u001b[39m}\u001b[39;00m\u001b[39m'\u001b[39m\n\u001b[0;32m     78\u001b[0m                          \u001b[39mf\u001b[39m\u001b[39m\"\u001b[39m\u001b[39m\\n\u001b[39;00m\u001b[39mos.environ[\u001b[39m\u001b[39m'\u001b[39m\u001b[39mCUDA_VISIBLE_DEVICES\u001b[39m\u001b[39m'\u001b[39m\u001b[39m]: \u001b[39m\u001b[39m{\u001b[39;00mvisible\u001b[39m}\u001b[39;00m\u001b[39m\\n\u001b[39;00m\u001b[39m\"\u001b[39m\n\u001b[0;32m     79\u001b[0m                          \u001b[39mf\u001b[39m\u001b[39m'\u001b[39m\u001b[39m{\u001b[39;00minstall\u001b[39m}\u001b[39;00m\u001b[39m'\u001b[39m)\n\u001b[0;32m     81\u001b[0m \u001b[39mif\u001b[39;00m \u001b[39mnot\u001b[39;00m cpu \u001b[39mand\u001b[39;00m \u001b[39mnot\u001b[39;00m mps \u001b[39mand\u001b[39;00m torch\u001b[39m.\u001b[39mcuda\u001b[39m.\u001b[39mis_available():  \u001b[39m# prefer GPU if available\u001b[39;00m\n\u001b[0;32m     82\u001b[0m     devices \u001b[39m=\u001b[39m device\u001b[39m.\u001b[39msplit(\u001b[39m'\u001b[39m\u001b[39m,\u001b[39m\u001b[39m'\u001b[39m) \u001b[39mif\u001b[39;00m device \u001b[39melse\u001b[39;00m \u001b[39m'\u001b[39m\u001b[39m0\u001b[39m\u001b[39m'\u001b[39m  \u001b[39m# range(torch.cuda.device_count())  # i.e. 0,1,6,7\u001b[39;00m\n",
      "\u001b[1;31mValueError\u001b[0m: Invalid CUDA 'device=0' requested. Use 'device=cpu' or pass valid CUDA device(s) if available, i.e. 'device=0' or 'device=0,1,2,3' for Multi-GPU.\n\ntorch.cuda.is_available(): False\ntorch.cuda.device_count(): 0\nos.environ['CUDA_VISIBLE_DEVICES']: 0\nSee https://pytorch.org/get-started/locally/ for up-to-date torch install instructions if no CUDA devices are seen by torch.\n"
     ]
    }
   ],
   "source": [
    "metrics = model.val(data=str(split_dataset_path))\n",
    "print(\"metrics\", metrics)"
   ]
  },
  {
   "attachments": {},
   "cell_type": "markdown",
   "id": "cd9e0154",
   "metadata": {},
   "source": [
    "# Model Prediction"
   ]
  },
  {
   "cell_type": "code",
   "execution_count": 28,
   "id": "0fb74a0b",
   "metadata": {},
   "outputs": [
    {
     "name": "stderr",
     "output_type": "stream",
     "text": [
      "\n",
      "image 1/1 c:\\Users\\Francis Ralph\\Desktop\\Misc\\BuildingBloCS\\BBCS-June-Intermediate\\images_to_predict\\prannays_edibles\\steak.jpg: 224x224 3 0.37, 6 0.34, 10 0.08, 0 0.06, 5 0.05, 34.0ms\n",
      "Speed: 1.0ms preprocess, 34.0ms inference, 0.0ms postprocess per image at shape (1, 3, 224, 224)\n"
     ]
    }
   ],
   "source": [
    "results = model('images_to_predict/prannays_edibles/steak.jpg')"
   ]
  },
  {
   "cell_type": "code",
   "execution_count": 29,
   "id": "67f6f900",
   "metadata": {},
   "outputs": [
    {
     "name": "stdout",
     "output_type": "stream",
     "text": [
      "0 fried (0.37% confidence)\n",
      "1 rice (0.34% confidence)\n",
      "2 dessert (0.08% confidence)\n",
      "3 bread (0.06% confidence)\n",
      "4 pasta (0.05% confidence)\n"
     ]
    }
   ],
   "source": [
    "for result in results:\n",
    "    for i, contender in enumerate(result.probs.top5):\n",
    "        print(i, class_name_map[str(contender)], f\"({result.probs.top5conf[i]:.2f}% confidence)\")"
   ]
  }
 ],
 "metadata": {
  "kernelspec": {
   "display_name": "Python 3",
   "language": "python",
   "name": "python3"
  },
  "language_info": {
   "codemirror_mode": {
    "name": "ipython",
    "version": 3
   },
   "file_extension": ".py",
   "mimetype": "text/x-python",
   "name": "python",
   "nbconvert_exporter": "python",
   "pygments_lexer": "ipython3",
   "version": "3.11.3"
  }
 },
 "nbformat": 4,
 "nbformat_minor": 5
}
